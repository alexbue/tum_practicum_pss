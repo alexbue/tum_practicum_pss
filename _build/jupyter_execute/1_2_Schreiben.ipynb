{
 "cells": [
  {
   "cell_type": "markdown",
   "metadata": {
    "collapsed": false,
    "pycharm": {
     "name": "#%% md\n"
    }
   },
   "source": [
    "# 1.2 Speichern von Audio-Dateien\n",
    "\n",
    "## Benötigte Packages\n",
    "Wir verwenden auch zum Schreiben von Sounddateien das [pysoundfile](http://github.com/bastibe/SoundFile) package. Dokumentation auf http://pysoundfile.readthedocs.org"
   ]
  },
  {
   "cell_type": "code",
   "execution_count": 1,
   "metadata": {},
   "outputs": [],
   "source": [
    "import numpy as np # for faster operations with floating point numbers\n",
    "import soundfile as sf  # for writing/reading soundfiles\n",
    "import librosa as lr # for writing/reading soundfiles"
   ]
  },
  {
   "cell_type": "markdown",
   "metadata": {
    "pycharm": {
     "name": "#%% md\n"
    },
    "tags": []
   },
   "source": [
    "Audio-Daten zu speichern ist genauso einfach wie sie zu lesen. Dazu benutzen wir die Funktion [sf.write()](http://pysoundfile.readthedocs.org/#soundfile.write):"
   ]
  },
  {
   "cell_type": "code",
   "execution_count": 2,
   "metadata": {
    "pycharm": {
     "name": "#%%\n"
    }
   },
   "outputs": [],
   "source": [
    "audio_signal, samplerate = sf.read('files/file.wav')\n",
    "sf.write('files/audio_file_16bit_fixed.wav', audio_signal, samplerate)"
   ]
  },
  {
   "cell_type": "markdown",
   "metadata": {
    "tags": []
   },
   "source": [
    "### Meta-Daten auslesen\n",
    "Um zu Testen ob beim Konvertieren und Speichern alles geklappt hat, können wir uns die Meta-Daten auslesen lassen. "
   ]
  },
  {
   "cell_type": "code",
   "execution_count": 3,
   "metadata": {
    "pycharm": {
     "name": "#%%\n"
    }
   },
   "outputs": [
    {
     "name": "stdout",
     "output_type": "stream",
     "text": [
      "========================================\r\n",
      "File : files/audio_file_16bit_fixed.wav\r\n",
      "Length : 230444\r\n",
      "RIFF : 230436\r\n",
      "WAVE\r\n",
      "fmt  : 16\r\n",
      "  Format        : 0x1 => WAVE_FORMAT_PCM\r\n",
      "  Channels      : 1\r\n",
      "  Sample Rate   : 48000\r\n",
      "  Block Align   : 2\r\n",
      "  Bit Width     : 16\r\n",
      "  Bytes/sec     : 96000\r\n",
      "data : 230400\r\n",
      "End\r\n",
      "\r\n",
      "----------------------------------------\r\n",
      "Sample Rate : 48000\r\n",
      "Frames      : 115200\r\n",
      "Channels    : 1\r\n",
      "Format      : 0x00010002\r\n",
      "Sections    : 1\r\n",
      "Seekable    : TRUE\r\n",
      "Duration    : 00:00:02.400\r\n",
      "Signal Max  : 16109 (-6.17 dB)\r\n",
      "\r\n"
     ]
    }
   ],
   "source": [
    "!sndfile-info files/audio_file_16bit_fixed.wav"
   ]
  },
  {
   "cell_type": "markdown",
   "metadata": {
    "tags": []
   },
   "source": [
    "### Präzision / Subtypes\n",
    "\n",
    "#### 16-bit Festkommazahlen (fixed points)\n",
    "Standardmäßig werden die .wav Dateien als 16-bit Festkommazahlen (a.k.a. `'PCM_16'`) geschrieben.\n",
    "Die jeweiligen Standardeinstellung für jedes Dateiformat lassen sich hier nachschlagen [sf.default_subtype()](http://pysoundfile.readthedocs.org/#soundfile.default_subtype). </br>\n",
    "\n",
    "Wir können den Standard-Subtype für die unterschiedlichen Dateiformate (hier 'WAV') auch direkt im Code überprüfen:"
   ]
  },
  {
   "cell_type": "code",
   "execution_count": 4,
   "metadata": {
    "pycharm": {
     "name": "#%%\n"
    }
   },
   "outputs": [
    {
     "data": {
      "text/plain": [
       "'PCM_16'"
      ]
     },
     "execution_count": 4,
     "metadata": {},
     "output_type": "execute_result"
    }
   ],
   "source": [
    "sf.default_subtype('WAV')"
   ]
  },
  {
   "cell_type": "markdown",
   "metadata": {},
   "source": [
    "#### Verwendung von anderen Subtypes\n",
    "\n",
    "Wenn wir unsere Audio-Dateien mit einer grösseren Präzision (numerischer Genauigkeit) speichern wollen, können wir sie zum Beispiel auch als 32-bit-Fliesskommazahlen ('FLOAT') speichern. "
   ]
  },
  {
   "cell_type": "code",
   "execution_count": 5,
   "metadata": {
    "pycharm": {
     "name": "#%%\n"
    }
   },
   "outputs": [],
   "source": [
    "sf.write('files/audio_file_32bit_float.wav', audio_signal, samplerate, subtype='FLOAT')"
   ]
  },
  {
   "cell_type": "markdown",
   "metadata": {},
   "source": [
    "#### Überprüfung \n",
    "Überprüfen wir kurz, ob das funktioniert hat und lesen dazu nochmal die Metadaten aus:"
   ]
  },
  {
   "cell_type": "code",
   "execution_count": 6,
   "metadata": {
    "pycharm": {
     "name": "#%%\n"
    }
   },
   "outputs": [
    {
     "name": "stdout",
     "output_type": "stream",
     "text": [
      "Error : Not able to open input file audio_file_32bit_float.wav.\r\n",
      "File : audio_file_32bit_float.wav\r\n",
      "\r\n",
      "System error : No such file or directory.\r\n"
     ]
    }
   ],
   "source": [
    "!sndfile-info audio_file_32bit_float.wav"
   ]
  },
  {
   "cell_type": "markdown",
   "metadata": {},
   "source": [
    "In der letzten Ausgabe sehen wir unter 'Format', dass die Audio-Datei korrekt mit Fliesskommazahlen ('IEEE_FLOAT') und mit Bit-Größe ('Bit Width') 32-bit gespeichert wurde.\n",
    "\n",
    "#### Alle möglichen Subtypes\n",
    "\n",
    "Wir können uns alle möglichen Subtypes der jeweiligen Dateiformate (hier im Beispiel 'WAV') ausgeben lassen, mit denen wir explizit die numerische Genauigkeit und damit auch die Qualität unserer gespeicherten Audio-Daten bestimmen können:"
   ]
  },
  {
   "cell_type": "code",
   "execution_count": 7,
   "metadata": {
    "pycharm": {
     "name": "#%%\n"
    }
   },
   "outputs": [
    {
     "data": {
      "text/plain": [
       "{'PCM_16': 'Signed 16 bit PCM',\n",
       " 'PCM_24': 'Signed 24 bit PCM',\n",
       " 'PCM_32': 'Signed 32 bit PCM',\n",
       " 'PCM_U8': 'Unsigned 8 bit PCM',\n",
       " 'FLOAT': '32 bit float',\n",
       " 'DOUBLE': '64 bit float',\n",
       " 'ULAW': 'U-Law',\n",
       " 'ALAW': 'A-Law',\n",
       " 'IMA_ADPCM': 'IMA ADPCM',\n",
       " 'MS_ADPCM': 'Microsoft ADPCM',\n",
       " 'GSM610': 'GSM 6.10',\n",
       " 'G721_32': '32kbs G721 ADPCM'}"
      ]
     },
     "execution_count": 7,
     "metadata": {},
     "output_type": "execute_result"
    }
   ],
   "source": [
    "sf.available_subtypes('WAV')"
   ]
  },
  {
   "cell_type": "markdown",
   "metadata": {},
   "source": [
    "</br></br>\n",
    "[zurück: 1.1 Lesen von Audio-Dateien](1_1_Lesen.ipynb) | [vor: 1.3 Audio direkt in das Jupyter Notebook aufnehmen](1_3_Recording.ipynb)"
   ]
  },
  {
   "cell_type": "code",
   "execution_count": null,
   "metadata": {},
   "outputs": [],
   "source": []
  }
 ],
 "metadata": {
  "kernelspec": {
   "display_name": "Python 3 (ipykernel)",
   "language": "python",
   "name": "python3"
  },
  "language_info": {
   "codemirror_mode": {
    "name": "ipython",
    "version": 3
   },
   "file_extension": ".py",
   "mimetype": "text/x-python",
   "name": "python",
   "nbconvert_exporter": "python",
   "pygments_lexer": "ipython3",
   "version": "3.9.7"
  }
 },
 "nbformat": 4,
 "nbformat_minor": 4
}