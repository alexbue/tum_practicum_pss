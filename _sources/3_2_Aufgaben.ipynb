{
 "cells": [
  {
   "cell_type": "markdown",
   "metadata": {
    "tags": []
   },
   "source": [
    "# 3.2 Aufgaben"
   ]
  },
  {
   "cell_type": "code",
   "execution_count": 5,
   "metadata": {
    "pycharm": {
     "name": "#%%\n"
    }
   },
   "outputs": [],
   "source": [
    "dur = 1.5  # duration in seconds\n",
    "amp = 0.3  # amplitude (full scale: +-1.0)\n",
    "freq = 440.0  # frequency in Hertz\n",
    "samplerate = 44100  # sampling frequency / sampling rate  in Hertz"
   ]
  },
  {
   "cell_type": "markdown",
   "source": [
    "## Impuls\n",
    "\n",
    "### Benötigte Packages"
   ],
   "metadata": {
    "collapsed": false
   }
  },
  {
   "cell_type": "code",
   "execution_count": null,
   "outputs": [],
   "source": [
    "import numpy as np # for faster operations with floating point numbers\n",
    "from scipy import signal  # signal processing\n",
    "import soundfile as sf  # for writing/reading soundfiles\n",
    "from IPython.display import Audio # audio player\n",
    "from IPython.core.display import display # enable visual integration of audio player\n",
    "import matplotlib.pyplot as plt # plotting visuals"
   ],
   "metadata": {
    "collapsed": false,
    "pycharm": {
     "name": "#%%\n"
    }
   }
  },
  {
   "cell_type": "markdown",
   "source": [
    "### Erzeugung des Impulssignals"
   ],
   "metadata": {
    "collapsed": false
   }
  },
  {
   "cell_type": "code",
   "execution_count": null,
   "outputs": [],
   "source": [
    "impulse_signal = signal.unit_impulse(100, \"mid\") # create impulse-signal with 100 samples and the impulse positioned in the middle"
   ],
   "metadata": {
    "collapsed": false,
    "pycharm": {
     "name": "#%%\n"
    }
   }
  },
  {
   "cell_type": "markdown",
   "source": [
    "### Das digitale Signal (numerisches Array)\n",
    "Wir können uns das digitale Signal, so wie es vom Computer repräsentiert wird, auch ansehen - als numerisches Array.  Damit können wir bestätigen, dass das Signal exakt aus den definierten 100 Samples im normalisierten Wertebereich [0.,1.] besteht, und der eigentliche Impuls (dargestellt durch die 1.) mittig positioniert ist. "
   ],
   "metadata": {
    "collapsed": false
   }
  },
  {
   "cell_type": "code",
   "execution_count": null,
   "outputs": [],
   "source": [
    "print(impulse_signal) # show impulse-signal as created in its numeric representation"
   ],
   "metadata": {
    "collapsed": false,
    "pycharm": {
     "name": "#%%\n"
    }
   }
  },
  {
   "cell_type": "markdown",
   "source": [
    "### Plotten des Impulssignals\n",
    "Für eine etwas intuitivere Darstellung können wir unseren Impuls auch wieder plotten und damit für die weitere Analyse etwas greifbarer machen."
   ],
   "metadata": {
    "collapsed": false
   }
  },
  {
   "cell_type": "code",
   "execution_count": null,
   "outputs": [],
   "source": [
    "plt.plot(np.arange(-50, 50), impulse_signal) # plot the signal with plt.plot(x-axis, y-axis)\n",
    "plt.xlabel(\"Time [samples]\")\n",
    "plt.ylabel(\"Amplitude\")\n",
    "plt.legend(['Impulse'])\n",
    "plt.grid(True)\n",
    "plt.show()"
   ],
   "metadata": {
    "collapsed": false,
    "pycharm": {
     "name": "#%%\n"
    }
   }
  },
  {
   "cell_type": "markdown",
   "source": [
    "### Anhören des erzeugten Signals\n",
    "Natürlich können wir auch direkt noch testen, wie sich unser rohes Audiosignal anhört."
   ],
   "metadata": {
    "collapsed": false
   }
  },
  {
   "cell_type": "code",
   "execution_count": null,
   "outputs": [],
   "source": [
    "display(Audio(impulse_signal, rate=samplerate))"
   ],
   "metadata": {
    "collapsed": false,
    "pycharm": {
     "name": "#%%\n"
    }
   }
  },
  {
   "cell_type": "markdown",
   "source": [
    "Da wir nur eine kurze \"Spitze\", also einen einzigen Impuls erzeugt haben, ist das Ergebnis hörbar - wie sichtbar - genau das, was wir erwartet haben: Ein kurzes, impulsives Klicken."
   ],
   "metadata": {
    "collapsed": false
   }
  },
  {
   "cell_type": "markdown",
   "source": [
    "### Filtern des erzeugten Signals\n",
    "Zu Testzwecken wollen wir jetzt unser erzeugtes Signal noch filtern. Dafür nehmen wir einen Butterworth-Filter 4ter Ordnung und verwenden das Ergebnis als seperates Audiosignal und geben dieses mit dem Audioplayer zum Anhören aus."
   ],
   "metadata": {
    "collapsed": false
   }
  },
  {
   "cell_type": "code",
   "execution_count": null,
   "outputs": [],
   "source": [
    "b, a = signal.butter(4, 0.2) # create butterworth-filter\n",
    "response = signal.lfilter(b, a, impulse_signal) # use butterworth-filter on the signal\n",
    "display(Audio(response, rate=samplerate))"
   ],
   "metadata": {
    "collapsed": false,
    "pycharm": {
     "name": "#%%\n"
    }
   }
  },
  {
   "cell_type": "markdown",
   "source": [
    "### Plots beider Signale\n",
    "Das gefilterte Resultat können wir anschliessend gegen unser originales Impulssignal plotten."
   ],
   "metadata": {
    "collapsed": false
   }
  },
  {
   "cell_type": "code",
   "execution_count": null,
   "outputs": [],
   "source": [
    "plt.plot(np.arange(-50, 50), impulse_signal)\n",
    "plt.plot(np.arange(-50, 50), response)\n",
    "plt.legend(['Original Impulse', 'Filtered Impulse'])\n",
    "plt.xlabel(\"Time [samples]\")\n",
    "plt.ylabel(\"Amplitude\")\n",
    "plt.grid(True)\n",
    "plt.show()"
   ],
   "metadata": {
    "collapsed": false,
    "pycharm": {
     "name": "#%%\n"
    }
   }
  },
  {
   "cell_type": "markdown",
   "source": [
    "### Impuls - Zusammenfassung\n",
    "Nochmal alle Einzelschritte zur Erzeugung, Anzeige und Filterung des Impulssignals zusammengefasst und in einer Zelle ausgeführt:"
   ],
   "metadata": {
    "collapsed": false
   }
  },
  {
   "cell_type": "code",
   "execution_count": null,
   "outputs": [],
   "source": [
    "import numpy as np # for faster operations with floating point numbers\n",
    "from scipy import signal  # signal processing\n",
    "import soundfile as sf  # for writing/reading soundfiles\n",
    "from IPython.display import Audio # audio player\n",
    "from IPython.core.display import display # enable visual integration of audio player\n",
    "import matplotlib.pyplot as plt # plotting visuals\n",
    "\n",
    "print(\"\\n\") # line break for better readability\n",
    "\n",
    "impulse_signal = signal.unit_impulse(100, \"mid\") # create impulse-signal with 100 samples and the impulse positioned in the middle\n",
    "print(\"Original Impulse: \\n\", impulse_signal, \"\\n\") # show impulse-signal in its numeric representation \n",
    "\n",
    "b, a = signal.butter(4, 0.2) # create butterworth-filter\n",
    "response = signal.lfilter(b, a, impulse_signal) # use butterworth-filter on the signal\n",
    "\n",
    "np.set_printoptions(suppress=\"True\") # suppress scientific notation of floating point numbers\n",
    "print(\"Filtered Impulse: \\n\",response, \"\\n\") # show impulse-signal in its numeric representation \n",
    "\n",
    "plt.plot(np.arange(-50, 50), impulse_signal) # plot the original impulse signal\n",
    "plt.plot(np.arange(-50, 50), response) # plot the filtered impulse signal\n",
    "plt.legend(['Original Impulse', 'Filtered Impulse'])\n",
    "plt.grid(True) # turn on grid \n",
    "plt.xlabel(\"Time [samples]\") # title of the x-axis\n",
    "plt.ylabel(\"Amplitude\") # title of the y-axis\n",
    "plt.show() # show the plot\n",
    "\n",
    "print(\"\\n\") # line break for better readability\n",
    "print(\"Original Impulse\\n\")\n",
    "display(Audio(impulse_signal, rate=samplerate))\n",
    "print(\"Filtered Impulse\\n\")\n",
    "display(Audio(response, rate=samplerate))"
   ],
   "metadata": {
    "collapsed": false,
    "pycharm": {
     "name": "#%%\n"
    }
   }
  },
  {
   "cell_type": "markdown",
   "metadata": {
    "tags": []
   },
   "source": [
    "## Sinuswelle\n",
    "\n",
    "### Benötigte Packages"
   ]
  },
  {
   "cell_type": "code",
   "execution_count": 6,
   "metadata": {
    "pycharm": {
     "name": "#%%\n"
    }
   },
   "outputs": [],
   "source": [
    "import numpy as np # for faster operations with floating point numbers\n",
    "from scipy import signal  # signal processing\n",
    "import soundfile as sf  # for writing/reading soundfiles\n",
    "from IPython.display import Audio # audio player\n",
    "from IPython.core.display import display # enable visual integration of audio player\n",
    "import matplotlib.pyplot as plt # plotting visuals"
   ]
  },
  {
   "cell_type": "markdown",
   "metadata": {
    "tags": []
   },
   "source": [
    "### Erzeugung des Sinussignals"
   ]
  },
  {
   "cell_type": "code",
   "execution_count": 7,
   "metadata": {
    "pycharm": {
     "name": "#%%\n"
    }
   },
   "outputs": [],
   "source": [
    "impulse_signal = signal.unit_impulse(100, \"mid\") # create impulse-signal with 100 samples and the impulse positioned in the middle"
   ]
  },
  {
   "cell_type": "markdown",
   "metadata": {
    "tags": []
   },
   "source": [
    "### Das digitale Signal (numerisches Array)\n",
    "Wir können uns das digitale Signal, so wie es vom Computer repräsentiert wird, auch ansehen - als numerisches Array.  Damit können wir bestätigen, dass das Signal exakt aus den definierten 100 Samples im normalisierten Wertebereich [0.,1.] besteht, und der eigentliche Impuls (dargestellt durch die 1.) mittig positioniert ist."
   ]
  },
  {
   "cell_type": "code",
   "execution_count": 8,
   "metadata": {
    "pycharm": {
     "name": "#%%\n"
    }
   },
   "outputs": [
    {
     "name": "stdout",
     "output_type": "stream",
     "text": [
      "[0. 0. 0. 0. 0. 0. 0. 0. 0. 0. 0. 0. 0. 0. 0. 0. 0. 0. 0. 0. 0. 0. 0. 0.\n",
      " 0. 0. 0. 0. 0. 0. 0. 0. 0. 0. 0. 0. 0. 0. 0. 0. 0. 0. 0. 0. 0. 0. 0. 0.\n",
      " 0. 0. 1. 0. 0. 0. 0. 0. 0. 0. 0. 0. 0. 0. 0. 0. 0. 0. 0. 0. 0. 0. 0. 0.\n",
      " 0. 0. 0. 0. 0. 0. 0. 0. 0. 0. 0. 0. 0. 0. 0. 0. 0. 0. 0. 0. 0. 0. 0. 0.\n",
      " 0. 0. 0. 0.]\n"
     ]
    }
   ],
   "source": [
    "print(impulse_signal) # show impulse-signal as created in its numeric representation"
   ]
  },
  {
   "cell_type": "markdown",
   "metadata": {
    "tags": []
   },
   "source": [
    "### Plotten des Sinussignals\n",
    "Für eine etwas intuitivere Darstellung können wir unseren Impuls auch wieder plotten und damit für die weitere Analyse etwas greifbarer machen."
   ]
  },
  {
   "cell_type": "code",
   "execution_count": 9,
   "metadata": {
    "tags": []
   },
   "outputs": [
    {
     "data": {
      "image/png": "[encoded data removed]",
      "text/plain": [
       "<Figure size 432x288 with 1 Axes>"
      ]
     },
     "metadata": {
      "needs_background": "light"
     },
     "output_type": "display_data"
    }
   ],
   "source": [
    "plt.plot(np.arange(-50, 50), impulse_signal) # plot the signal with plt.plot(x-axis, y-axis)\n",
    "plt.xlabel(\"Time [samples]\")\n",
    "plt.ylabel(\"Amplitude\")\n",
    "plt.legend(['Impulse'])\n",
    "plt.grid(True)\n",
    "plt.show()"
   ]
  },
  {
   "cell_type": "markdown",
   "metadata": {
    "tags": []
   },
   "source": [
    "### Anhören des erzeugten Signals\n",
    "Natürlich können wir auch direkt noch testen, wie sich unser rohes Audiosignal anhört."
   ]
  },
  {
   "cell_type": "code",
   "execution_count": 11,
   "metadata": {
    "tags": []
   },
   "outputs": [
    {
     "data": {
      "text/html": [
       "\n",
       "                <audio  controls=\"controls\" >\n",
       "                    <source src=\"data:audio/wav;base64,UklGRuwAAABXQVZFZm10IBAAAAABAAEARKwAAIhYAQACABAAZGF0YcgAAAAAAAAAAAAAAAAAAAAAAAAAAAAAAAAAAAAAAAAAAAAAAAAAAAAAAAAAAAAAAAAAAAAAAAAAAAAAAAAAAAAAAAAAAAAAAAAAAAAAAAAAAAAAAAAAAAAAAAAAAAAAAAAAAAAAAAAA/38AAAAAAAAAAAAAAAAAAAAAAAAAAAAAAAAAAAAAAAAAAAAAAAAAAAAAAAAAAAAAAAAAAAAAAAAAAAAAAAAAAAAAAAAAAAAAAAAAAAAAAAAAAAAAAAAAAAAAAAAAAAAAAAAAAA==\" type=\"audio/wav\" />\n",
       "                    Your browser does not support the audio element.\n",
       "                </audio>\n",
       "              "
      ],
      "text/plain": [
       "<IPython.lib.display.Audio object>"
      ]
     },
     "metadata": {},
     "output_type": "display_data"
    }
   ],
   "source": [
    "display(Audio(impulse_signal, rate=samplerate))"
   ]
  },
  {
   "cell_type": "markdown",
   "metadata": {
    "tags": []
   },
   "source": [
    "Da wir nur eine kurze \"Spitze\", also einen einzigen Impuls erzeugt haben, ist das Ergebnis hörbar - wie sichtbar - genau das, was wir erwartet haben: Ein kurzes, impulsives Klicken."
   ]
  },
  {
   "cell_type": "markdown",
   "metadata": {
    "tags": []
   },
   "source": [
    "### Filtern des erzeugten Signals\n",
    "Zu Testzwecken wollen wir jetzt unser erzeugtes Signal noch filtern. Dafür nehmen wir einen Butterworth-Filter 4ter Ordnung und verwenden das Ergebnis als seperates Audiosignal und geben dieses mit dem Audioplayer zum Anhören aus."
   ]
  },
  {
   "cell_type": "code",
   "execution_count": 13,
   "metadata": {},
   "outputs": [
    {
     "data": {
      "text/html": [
       "\n",
       "                <audio  controls=\"controls\" >\n",
       "                    <source src=\"data:audio/wav;base64,UklGRuwAAABXQVZFZm10IBAAAAABAAEARKwAAIhYAQACABAAZGF0YcgAAAAAAAAAAAAAAAAAAAAAAAAAAAAAAAAAAAAAAAAAAAAAAAAAAAAAAAAAAAAAAAAAAAAAAAAAAAAAAAAAAAAAAAAAAAAAAAAAAAAAAAAAAAAAAAAAAAAAAAAAAAAAAAAAAAAAAAAApQLYEKsxE1wpe/9/GGrbQzIbVvu06e3lzOvT9VH/gAWsB6MG5wPzAMn+yv3a/Y/+df8xAJkAqwCBAD4AAADa/83/1f/o//v/CAAOAA4ACQADAP///P/8//3///8AAAEAAQABAA==\" type=\"audio/wav\" />\n",
       "                    Your browser does not support the audio element.\n",
       "                </audio>\n",
       "              "
      ],
      "text/plain": [
       "<IPython.lib.display.Audio object>"
      ]
     },
     "metadata": {},
     "output_type": "display_data"
    }
   ],
   "source": [
    "b, a = signal.butter(4, 0.2) # create butterworth-filter\n",
    "response = signal.lfilter(b, a, impulse_signal) # use butterworth-filter on the signal\n",
    "display(Audio(response, rate=samplerate))"
   ]
  },
  {
   "cell_type": "markdown",
   "metadata": {
    "tags": []
   },
   "source": [
    "### Plots beider Signale\n",
    "Das gefilterte Resultat können wir anschliessend gegen unser originales Impulssignal plotten."
   ]
  },
  {
   "cell_type": "code",
   "execution_count": 14,
   "metadata": {},
   "outputs": [
    {
     "data": {
      "image/png": "[encoded data removed]",
      "text/plain": [
       "<Figure size 432x288 with 1 Axes>"
      ]
     },
     "metadata": {
      "needs_background": "light"
     },
     "output_type": "display_data"
    }
   ],
   "source": [
    "plt.plot(np.arange(-50, 50), impulse_signal)\n",
    "plt.plot(np.arange(-50, 50), response)\n",
    "plt.legend(['Original Impulse', 'Filtered Impulse'])\n",
    "plt.xlabel(\"Time [samples]\")\n",
    "plt.ylabel(\"Amplitude\")\n",
    "plt.grid(True)\n",
    "plt.show()"
   ]
  },
  {
   "cell_type": "markdown",
   "metadata": {
    "tags": []
   },
   "source": [
    "### Impuls - Zusammenfassung\n",
    "Nochmal alle Einzelschritte zur Erzeugung, Anzeige und Filterung des Impulssignals zusammengefasst und in einer Zelle ausgeführt:"
   ]
  },
  {
   "cell_type": "code",
   "execution_count": 15,
   "metadata": {},
   "outputs": [
    {
     "name": "stdout",
     "output_type": "stream",
     "text": [
      "\n",
      "\n",
      "Original Impulse: \n",
      " [0. 0. 0. 0. 0. 0. 0. 0. 0. 0. 0. 0. 0. 0. 0. 0. 0. 0. 0. 0. 0. 0. 0. 0.\n",
      " 0. 0. 0. 0. 0. 0. 0. 0. 0. 0. 0. 0. 0. 0. 0. 0. 0. 0. 0. 0. 0. 0. 0. 0.\n",
      " 0. 0. 1. 0. 0. 0. 0. 0. 0. 0. 0. 0. 0. 0. 0. 0. 0. 0. 0. 0. 0. 0. 0. 0.\n",
      " 0. 0. 0. 0. 0. 0. 0. 0. 0. 0. 0. 0. 0. 0. 0. 0. 0. 0. 0. 0. 0. 0. 0. 0.\n",
      " 0. 0. 0. 0.] \n",
      "\n",
      "Filtered Impulse: \n",
      " [ 0.          0.          0.          0.          0.          0.\n",
      "  0.          0.          0.          0.          0.          0.\n",
      "  0.          0.          0.          0.          0.          0.\n",
      "  0.          0.          0.          0.          0.          0.\n",
      "  0.          0.          0.          0.          0.          0.\n",
      "  0.          0.          0.          0.          0.          0.\n",
      "  0.          0.          0.          0.          0.          0.\n",
      "  0.          0.          0.          0.          0.          0.\n",
      "  0.          0.          0.00482434  0.03072872  0.09059468  0.16794482\n",
      "  0.22464127  0.23345719  0.19351255  0.12376524  0.0496036  -0.00850905\n",
      " -0.04067384 -0.0475632  -0.03685173 -0.01856284 -0.00125222  0.01003316\n",
      "  0.01399901  0.01211183  0.00712186  0.00173298 -0.00222279 -0.00403536\n",
      " -0.00392509 -0.00263181 -0.00099295  0.00035367  0.0010955   0.00122332\n",
      "  0.00092277  0.00044488  0.00000379 -0.00027648 -0.0003676  -0.00031063\n",
      " -0.00017772 -0.0000382   0.00006199  0.00010605  0.00010086  0.00006613\n",
      "  0.00002353 -0.00001076 -0.0000291  -0.00003163 -0.00002337 -0.00001085\n",
      "  0.00000045  0.00000746  0.00000957  0.00000792] \n",
      "\n"
     ]
    },
    {
     "data": {
      "image/png": "[encoded data removed]",
      "text/plain": [
       "<Figure size 432x288 with 1 Axes>"
      ]
     },
     "metadata": {
      "needs_background": "light"
     },
     "output_type": "display_data"
    },
    {
     "name": "stdout",
     "output_type": "stream",
     "text": [
      "\n",
      "\n",
      "Original Impulse\n",
      "\n"
     ]
    },
    {
     "data": {
      "text/html": [
       "\n",
       "                <audio  controls=\"controls\" >\n",
       "                    <source src=\"data:audio/wav;base64,UklGRuwAAABXQVZFZm10IBAAAAABAAEARKwAAIhYAQACABAAZGF0YcgAAAAAAAAAAAAAAAAAAAAAAAAAAAAAAAAAAAAAAAAAAAAAAAAAAAAAAAAAAAAAAAAAAAAAAAAAAAAAAAAAAAAAAAAAAAAAAAAAAAAAAAAAAAAAAAAAAAAAAAAAAAAAAAAAAAAAAAAA/38AAAAAAAAAAAAAAAAAAAAAAAAAAAAAAAAAAAAAAAAAAAAAAAAAAAAAAAAAAAAAAAAAAAAAAAAAAAAAAAAAAAAAAAAAAAAAAAAAAAAAAAAAAAAAAAAAAAAAAAAAAAAAAAAAAA==\" type=\"audio/wav\" />\n",
       "                    Your browser does not support the audio element.\n",
       "                </audio>\n",
       "              "
      ],
      "text/plain": [
       "<IPython.lib.display.Audio object>"
      ]
     },
     "metadata": {},
     "output_type": "display_data"
    },
    {
     "name": "stdout",
     "output_type": "stream",
     "text": [
      "Filtered Impulse\n",
      "\n"
     ]
    },
    {
     "data": {
      "text/html": [
       "\n",
       "                <audio  controls=\"controls\" >\n",
       "                    <source src=\"data:audio/wav;base64,UklGRuwAAABXQVZFZm10IBAAAAABAAEARKwAAIhYAQACABAAZGF0YcgAAAAAAAAAAAAAAAAAAAAAAAAAAAAAAAAAAAAAAAAAAAAAAAAAAAAAAAAAAAAAAAAAAAAAAAAAAAAAAAAAAAAAAAAAAAAAAAAAAAAAAAAAAAAAAAAAAAAAAAAAAAAAAAAAAAAAAAAApQLYEKsxE1wpe/9/GGrbQzIbVvu06e3lzOvT9VH/gAWsB6MG5wPzAMn+yv3a/Y/+df8xAJkAqwCBAD4AAADa/83/1f/o//v/CAAOAA4ACQADAP///P/8//3///8AAAEAAQABAA==\" type=\"audio/wav\" />\n",
       "                    Your browser does not support the audio element.\n",
       "                </audio>\n",
       "              "
      ],
      "text/plain": [
       "<IPython.lib.display.Audio object>"
      ]
     },
     "metadata": {},
     "output_type": "display_data"
    }
   ],
   "source": [
    "import numpy as np # for faster operations with floating point numbers\n",
    "from scipy import signal  # signal processing\n",
    "import soundfile as sf  # for writing/reading soundfiles\n",
    "from IPython.display import Audio # audio player\n",
    "from IPython.core.display import display # enable visual integration of audio player\n",
    "import matplotlib.pyplot as plt # plotting visuals\n",
    "\n",
    "print(\"\\n\") # line break for better readability\n",
    "\n",
    "impulse_signal = signal.unit_impulse(100, \"mid\") # create impulse-signal with 100 samples and the impulse positioned in the middle\n",
    "print(\"Original Impulse: \\n\", impulse_signal, \"\\n\") # show impulse-signal in its numeric representation\n",
    "\n",
    "b, a = signal.butter(4, 0.2) # create butterworth-filter\n",
    "response = signal.lfilter(b, a, impulse_signal) # use butterworth-filter on the signal\n",
    "\n",
    "np.set_printoptions(suppress=\"True\") # suppress scientific notation of floating point numbers\n",
    "print(\"Filtered Impulse: \\n\",response, \"\\n\") # show impulse-signal in its numeric representation\n",
    "\n",
    "plt.plot(np.arange(-50, 50), impulse_signal) # plot the original impulse signal\n",
    "plt.plot(np.arange(-50, 50), response) # plot the filtered impulse signal\n",
    "plt.legend(['Original Impulse', 'Filtered Impulse'])\n",
    "plt.grid(True) # turn on grid\n",
    "plt.xlabel(\"Time [samples]\") # title of the x-axis\n",
    "plt.ylabel(\"Amplitude\") # title of the y-axis\n",
    "plt.show() # show the plot\n",
    "\n",
    "print(\"\\n\") # line break for better readability\n",
    "print(\"Original Impulse\\n\")\n",
    "display(Audio(impulse_signal, rate=samplerate))\n",
    "print(\"Filtered Impulse\\n\")\n",
    "display(Audio(response, rate=samplerate))"
   ]
  },
  {
   "cell_type": "code",
   "execution_count": null,
   "metadata": {},
   "outputs": [],
   "source": []
  }
 ],
 "metadata": {
  "kernelspec": {
   "display_name": "Python 3 (ipykernel)",
   "language": "python",
   "name": "python3"
  },
  "language_info": {
   "codemirror_mode": {
    "name": "ipython",
    "version": 3
   },
   "file_extension": ".py",
   "mimetype": "text/x-python",
   "name": "python",
   "nbconvert_exporter": "python",
   "pygments_lexer": "ipython3",
   "version": "3.9.6"
  }
 },
 "nbformat": 4,
 "nbformat_minor": 4
}