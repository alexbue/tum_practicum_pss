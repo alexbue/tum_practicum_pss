{
 "cells": [
  {
   "cell_type": "markdown",
   "source": [
    "# 1.2 Speichern von Audio-Dateien\n",
    "\n",
    "## Benötigte Packages\n",
    "Wir verwenden auch zum Schreiben von Sounddateien das [pysoundfile](http://github.com/bastibe/SoundFile) package. Dokumentation auf http://pysoundfile.readthedocs.org"
   ],
   "metadata": {
    "collapsed": false,
    "pycharm": {
     "name": "#%% md\n"
    }
   }
  },
  {
   "cell_type": "code",
   "execution_count": 134,
   "metadata": {},
   "outputs": [],
   "source": [
    "import numpy as np # for faster operations with floating point numbers\n",
    "import soundfile as sf  # for writing/reading soundfiles\n",
    "import librosa as lr # for writing/reading soundfiles"
   ]
  },
  {
   "cell_type": "markdown",
   "metadata": {
    "pycharm": {
     "name": "#%% md\n"
    },
    "tags": []
   },
   "source": [
    "Audio-Daten zu speichern ist genauso einfach wie sie zu lesen. Dazu benutzen wir die Funktion [sf.write()](http://pysoundfile.readthedocs.org/#soundfile.write):"
   ]
  },
  {
   "cell_type": "code",
   "execution_count": 13,
   "metadata": {
    "pycharm": {
     "name": "#%%\n"
    }
   },
   "outputs": [],
   "source": [
    "audio_signal, samplerate = sf.read('files/file.wav')\n",
    "sf.write('files/audio_file_16bit_fixed.wav', audio_signal, samplerate)"
   ]
  },
  {
   "cell_type": "markdown",
   "metadata": {
    "tags": []
   },
   "source": [
    "### Meta-Daten auslesen\n",
    "Um zu Testen ob beim Konvertieren und Speichern alles geklappt hat, können wir uns die Meta-Daten auslesen lassen. "
   ]
  },
  {
   "cell_type": "code",
   "execution_count": 46,
   "metadata": {
    "pycharm": {
     "name": "#%%\n"
    }
   },
   "outputs": [
    {
     "name": "stdout",
     "output_type": "stream",
     "text": [
      "========================================\n",
      "File : files/audio_file_16bit_fixed.wav\n",
      "Length : 230444\n",
      "RIFF : 230436\n",
      "WAVE\n",
      "fmt  : 16\n",
      "  Format        : 0x1 => WAVE_FORMAT_PCM\n",
      "  Channels      : 1\n",
      "  Sample Rate   : 48000\n",
      "  Block Align   : 2\n",
      "  Bit Width     : 16\n",
      "  Bytes/sec     : 96000\n",
      "data : 230400\n",
      "End\n",
      "\n",
      "----------------------------------------\n",
      "Sample Rate : 48000\n",
      "Frames      : 115200\n",
      "Channels    : 1\n",
      "Format      : 0x00010002\n",
      "Sections    : 1\n",
      "Seekable    : TRUE\n",
      "Duration    : 00:00:02.400\n",
      "Signal Max  : 16109 (-6.17 dB)\n",
      "\n"
     ]
    }
   ],
   "source": [
    "!sndfile-info files/audio_file_16bit_fixed.wav"
   ]
  },
  {
   "cell_type": "markdown",
   "metadata": {
    "tags": []
   },
   "source": [
    "### Präzision / Subtypes\n",
    "\n",
    "#### 16-bit Festkommazahlen (fixed points)\n",
    "Standardmäßig werden die .wav Dateien als 16-bit Festkommazahlen (a.k.a. `'PCM_16'`) geschrieben.\n",
    "Die jeweiligen Standardeinstellung für jedes Dateiformat lassen sich hier nachschlagen [sf.default_subtype()](http://pysoundfile.readthedocs.org/#soundfile.default_subtype). </br>\n",
    "\n",
    "Wir können den Standard-Subtype für die unterschiedlichen Dateiformate (hier 'WAV') auch direkt im Code überprüfen:"
   ]
  },
  {
   "cell_type": "code",
   "execution_count": 17,
   "metadata": {
    "pycharm": {
     "name": "#%%\n"
    }
   },
   "outputs": [
    {
     "data": {
      "text/plain": [
       "'PCM_16'"
      ]
     },
     "execution_count": 17,
     "metadata": {},
     "output_type": "execute_result"
    }
   ],
   "source": [
    "sf.default_subtype('WAV')"
   ]
  },
  {
   "cell_type": "markdown",
   "metadata": {},
   "source": [
    "#### Verwendung von anderen Subtypes\n",
    "\n",
    "Wenn wir unsere Audio-Dateien mit einer grösseren Präzision (numerischer Genauigkeit) speichern wollen, können wir sie zum Beispiel auch als 32-bit-Fliesskommazahlen ('FLOAT') speichern. "
   ]
  },
  {
   "cell_type": "code",
   "execution_count": 19,
   "metadata": {
    "pycharm": {
     "name": "#%%\n"
    }
   },
   "outputs": [],
   "source": [
    "sf.write('files/audio_file_32bit_float.wav', audio_signal, samplerate, subtype='FLOAT')"
   ]
  },
  {
   "cell_type": "markdown",
   "metadata": {},
   "source": [
    "#### Überprüfung \n",
    "Überprüfen wir kurz, ob das funktioniert hat und lesen dazu nochmal die Metadaten aus:"
   ]
  },
  {
   "cell_type": "code",
   "execution_count": 21,
   "metadata": {
    "pycharm": {
     "name": "#%%\n"
    }
   },
   "outputs": [
    {
     "name": "stdout",
     "output_type": "stream",
     "text": [
      "========================================\n",
      "File : audio_file_32bit_float.wav\n",
      "Length : 530000\n",
      "RIFF : 529992\n",
      "WAVE\n",
      "fmt  : 16\n",
      "  Format        : 0x3 => WAVE_FORMAT_IEEE_FLOAT\n",
      "  Channels      : 1\n",
      "  Sample Rate   : 48000\n",
      "  Block Align   : 4\n",
      "  Bit Width     : 32\n",
      "  Bytes/sec     : 192000\n",
      "fact : 4\n",
      "  frames  : 132480\n",
      "PEAK : 16\n",
      "  version    : 1\n",
      "  time stamp : 1629369479\n",
      "    Ch   Position       Value\n",
      "     0   47411          0.237091\n",
      "data : 529920\n",
      "End\n",
      "\n",
      "----------------------------------------\n",
      "Sample Rate : 48000\n",
      "Frames      : 132480\n",
      "Channels    : 1\n",
      "Format      : 0x00010006\n",
      "Sections    : 1\n",
      "Seekable    : TRUE\n",
      "Duration    : 00:00:02.760\n",
      "Signal Max  : 0.237091 (-12.50 dB)\n",
      "\n"
     ]
    }
   ],
   "source": [
    "!sndfile-info audio_file_32bit_float.wav"
   ]
  },
  {
   "cell_type": "markdown",
   "metadata": {},
   "source": [
    "In der letzten Ausgabe sehen wir unter 'Format', dass die Audio-Datei korrekt mit Fliesskommazahlen ('IEEE_FLOAT') und mit Bit-Größe ('Bit Width') 32-bit gespeichert wurde.\n",
    "\n",
    "#### Alle möglichen Subtypes\n",
    "\n",
    "Wir können uns alle möglichen Subtypes der jeweiligen Dateiformate (hier im Beispiel 'WAV') ausgeben lassen, mit denen wir explizit die numerische Genauigkeit und damit auch die Qualität unserer gespeicherten Audio-Daten bestimmen können:"
   ]
  },
  {
   "cell_type": "code",
   "execution_count": 23,
   "metadata": {
    "pycharm": {
     "name": "#%%\n"
    }
   },
   "outputs": [
    {
     "data": {
      "text/plain": [
       "{'PCM_16': 'Signed 16 bit PCM',\n",
       " 'PCM_24': 'Signed 24 bit PCM',\n",
       " 'PCM_32': 'Signed 32 bit PCM',\n",
       " 'PCM_U8': 'Unsigned 8 bit PCM',\n",
       " 'FLOAT': '32 bit float',\n",
       " 'DOUBLE': '64 bit float',\n",
       " 'ULAW': 'U-Law',\n",
       " 'ALAW': 'A-Law',\n",
       " 'IMA_ADPCM': 'IMA ADPCM',\n",
       " 'MS_ADPCM': 'Microsoft ADPCM',\n",
       " 'GSM610': 'GSM 6.10',\n",
       " 'G721_32': '32kbs G721 ADPCM'}"
      ]
     },
     "execution_count": 23,
     "metadata": {},
     "output_type": "execute_result"
    }
   ],
   "source": [
    "sf.available_subtypes('WAV')"
   ]
  },
  {
   "cell_type": "markdown",
   "metadata": {},
   "source": [
    "</br></br>\n",
    "[zurück: 1.1 Lesen von Audio-Dateien](1_1_Lesen.ipynb) | [vor: 1.3 Audio direkt in das Jupyter Notebook aufnehmen](1_3_Recording.ipynb)"
   ]
  },
  {
   "cell_type": "code",
   "execution_count": null,
   "metadata": {},
   "outputs": [],
   "source": []
  }
 ],
 "metadata": {
  "kernelspec": {
   "display_name": "Python 3 (ipykernel)",
   "language": "python",
   "name": "python3"
  },
  "language_info": {
   "codemirror_mode": {
    "name": "ipython",
    "version": 3
   },
   "file_extension": ".py",
   "mimetype": "text/x-python",
   "name": "python",
   "nbconvert_exporter": "python",
   "pygments_lexer": "ipython3",
   "version": "3.9.6"
  }
 },
 "nbformat": 4,
 "nbformat_minor": 4
}